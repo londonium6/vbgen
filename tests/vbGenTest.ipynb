{
 "cells": [
  {
   "cell_type": "code",
   "execution_count": 1,
   "metadata": {},
   "outputs": [],
   "source": [
    "# import objects\n",
    "import sys\n",
    "sys.path.append('../source/')\n",
    "import numpy as np\n",
    "\n",
    "def test_plot(sigOrig, fs):\n",
    "    from visPlots import testPlot\n",
    "    plotObj = testPlot(1, fs)\n",
    "    plotObj.make_all_plots(sigOrig)\n",
    "\n",
    "def test_noise():\n",
    "    from tGens import noiseOne\n",
    "    fs = 10.0e6\n",
    "    bw = 4.0e6\n",
    "    noiseObj=noiseOne(fs,bw,0.001)\n",
    "    sig = []\n",
    "    for sigInd in range(0,5):\n",
    "        sig = np.append(sig, noiseObj.make_sig())\n",
    "    return sig, fs\n",
    "    \n",
    "if __name__ == \"__main__\":\n",
    "    sigOrig, fsOrig = test_noise()\n",
    "    test_plot(sigOrig, fsOrig)"
   ]
  },
  {
   "cell_type": "code",
   "execution_count": null,
   "metadata": {},
   "outputs": [],
   "source": []
  },
  {
   "cell_type": "code",
   "execution_count": null,
   "metadata": {},
   "outputs": [],
   "source": []
  }
 ],
 "metadata": {
  "kernelspec": {
   "display_name": "Python 3",
   "language": "python",
   "name": "python3"
  },
  "language_info": {
   "codemirror_mode": {
    "name": "ipython",
    "version": 3
   },
   "file_extension": ".py",
   "mimetype": "text/x-python",
   "name": "python",
   "nbconvert_exporter": "python",
   "pygments_lexer": "ipython3",
   "version": "3.6.9"
  }
 },
 "nbformat": 4,
 "nbformat_minor": 2
}
