{
 "cells": [
  {
   "cell_type": "code",
   "execution_count": null,
   "metadata": {},
   "outputs": [],
   "source": [
    "# add source folder path to workspace\n",
    "import sys\n",
    "sys.path.append('../source/')\n",
    "# import libraries\n",
    "import numpy as np\n",
    "\n",
    "def test_wav():\n",
    "    # set parameters\n",
    "    fs = 10.0e6\n",
    "    fc = 2.0e6\n",
    "    tLen = 0.001\n",
    "    nLen = int(fs * tLen)\n",
    "    # generate waveforms\n",
    "    tVec = np.ones(nLen)\n",
    "    sig = np.exp(1j * 2 * np.pi * fc / fs * np.cumsum(tVec))\n",
    "    # final\n",
    "    return sig, fs\n",
    "\n",
    "def test_plots():\n",
    "    # custom imports\n",
    "    from visPlots import testPlot\n",
    "    # generate test signal\n",
    "    sig, fs = test_wav()\n",
    "    # test plotting class\n",
    "    testObj = testPlot(0, fs)\n",
    "    testObj.make_all_plots(sig)\n",
    "    \n",
    "def test_save():\n",
    "    # custom imports\n",
    "    from vbgensIo import grFile\n",
    "    # generate test signal\n",
    "    sig, fs = test_wav()\n",
    "    # test write class\n",
    "    ioObj = grFile('../data/test001')\n",
    "    ioObj.write_data(sig)\n",
    "    # stimuli\n",
    "    test_plots()\n",
    "\n",
    "if __name__ == \"__main__\":\n",
    "    #test_plots()\n",
    "    test_save()"
   ]
  },
  {
   "cell_type": "code",
   "execution_count": null,
   "metadata": {},
   "outputs": [],
   "source": []
  },
  {
   "cell_type": "code",
   "execution_count": null,
   "metadata": {},
   "outputs": [],
   "source": []
  }
 ],
 "metadata": {
  "kernelspec": {
   "display_name": "Python 3",
   "language": "python",
   "name": "python3"
  },
  "language_info": {
   "codemirror_mode": {
    "name": "ipython",
    "version": 3
   },
   "file_extension": ".py",
   "mimetype": "text/x-python",
   "name": "python",
   "nbconvert_exporter": "python",
   "pygments_lexer": "ipython3",
   "version": "3.7.3"
  }
 },
 "nbformat": 4,
 "nbformat_minor": 2
}
